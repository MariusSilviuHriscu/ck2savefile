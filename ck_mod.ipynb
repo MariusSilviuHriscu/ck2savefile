{
 "cells": [
  {
   "cell_type": "code",
   "execution_count": 1,
   "metadata": {},
   "outputs": [],
   "source": [
    "from pathlib import Path\n",
    "import typing\n",
    "import json"
   ]
  },
  {
   "cell_type": "code",
   "execution_count": 2,
   "metadata": {},
   "outputs": [],
   "source": [
    "path_to_savegame = Path(r'C:\\Users\\Victor\\Documents\\Paradox Interactive\\Crusader Kings II\\save games\\Hriscu7')\n",
    "save_game_name = '769_08_20.ck2'\n",
    "complete_path = path_to_savegame / save_game_name"
   ]
  },
  {
   "cell_type": "code",
   "execution_count": 3,
   "metadata": {},
   "outputs": [],
   "source": [
    "from ck2_savefile.parser import SaveFileParser\n",
    "\n",
    "\n",
    "save_game_parser = SaveFileParser(file_path=complete_path)"
   ]
  },
  {
   "cell_type": "code",
   "execution_count": 4,
   "metadata": {},
   "outputs": [],
   "source": [
    "response = save_game_parser.parse_data()"
   ]
  },
  {
   "cell_type": "code",
   "execution_count": 16,
   "metadata": {},
   "outputs": [
    {
     "name": "stdout",
     "output_type": "stream",
     "text": [
      "True\n",
      "True\n",
      "False\n"
     ]
    }
   ],
   "source": [
    "from ck2_savefile.search_type import DictSearch,OneLineKeyValueSearch,OptionalKeyDictSearch\n",
    "\n",
    "\n",
    "search_dict = DictSearch(\n",
    "    search_key = 'character',\n",
    "    get_value_flag=False\n",
    ")\n",
    "character_dict_search = DictSearch(\n",
    "    search_key='160195',\n",
    "    get_value_flag = False\n",
    ")\n",
    "search_key = OneLineKeyValueSearch(\n",
    "    search_key = 'wealth'\n",
    ")\n",
    "optional_dicts = OptionalKeyDictSearch(\n",
    "    search_key=None\n",
    ")\n",
    "response2 = response.get_by_search_term(search_dict , character_dict_search)"
   ]
  },
  {
   "cell_type": "code",
   "execution_count": 17,
   "metadata": {},
   "outputs": [],
   "source": [
    "items = list(response2.generator)"
   ]
  },
  {
   "cell_type": "code",
   "execution_count": 18,
   "metadata": {},
   "outputs": [
    {
     "data": {
      "text/plain": [
       "[]"
      ]
     },
     "execution_count": 18,
     "metadata": {},
     "output_type": "execute_result"
    }
   ],
   "source": [
    "items"
   ]
  },
  {
   "cell_type": "code",
   "execution_count": 8,
   "metadata": {},
   "outputs": [
    {
     "data": {
      "text/plain": [
       "[{'index': 119176,\n",
       "  'data_key': 'bn',\n",
       "  'data_value': '\"Eochaid\"',\n",
       "  'start_spaces': 3,\n",
       "  'end_spaces': 1},\n",
       " {'index': 119177,\n",
       "  'data_key': 'hist',\n",
       "  'data_value': 'yes',\n",
       "  'start_spaces': 3,\n",
       "  'end_spaces': 1},\n",
       " {'index': 119178,\n",
       "  'data_key': 'b_d',\n",
       "  'data_value': '\"740.1.1\"',\n",
       "  'start_spaces': 3,\n",
       "  'end_spaces': 1},\n",
       " {'index': 119179,\n",
       "  'data_key': 'fat',\n",
       "  'data_value': '160194',\n",
       "  'start_spaces': 3,\n",
       "  'end_spaces': 1},\n",
       " {'index': 119180,\n",
       "  'data_key': 'att',\n",
       "  'data_list': <ck2_savefile.info_representation.OneLineListInfo at 0x2274b3b1fd0>,\n",
       "  'start_spaces': 3,\n",
       "  'end_spaces': 1},\n",
       " {'index': 119181,\n",
       "  'data_key': 'tr',\n",
       "  'data_list': <ck2_savefile.info_representation.OneLineListInfo at 0x2274b3b21d0>,\n",
       "  'start_spaces': 3,\n",
       "  'end_spaces': 1},\n",
       " {'index': 119182,\n",
       "  'data_key': 'dnt',\n",
       "  'data_value': '819',\n",
       "  'start_spaces': 3,\n",
       "  'end_spaces': 1},\n",
       " {'index': 119183,\n",
       "  'data_key': 'dna',\n",
       "  'data_value': '\"cfiqcenkuza\"',\n",
       "  'start_spaces': 3,\n",
       "  'end_spaces': 1},\n",
       " {'index': 119184,\n",
       "  'data_key': 'prp',\n",
       "  'data_value': '\"jb0f0k0000000000000000000000000000000\"',\n",
       "  'start_spaces': 3,\n",
       "  'end_spaces': 1},\n",
       " {'index': 119185,\n",
       "  'data_key': 'fer',\n",
       "  'data_value': '0.500',\n",
       "  'start_spaces': 3,\n",
       "  'end_spaces': 1},\n",
       " {'index': 119186,\n",
       "  'data_key': 'health',\n",
       "  'data_value': '5.000',\n",
       "  'start_spaces': 3,\n",
       "  'end_spaces': 1},\n",
       " {'index': 119187,\n",
       "  'data_key': 'prs',\n",
       "  'data_value': '12.940',\n",
       "  'start_spaces': 3,\n",
       "  'end_spaces': 1},\n",
       " {'index': 119188,\n",
       "  'data_key': 'piety',\n",
       "  'data_value': '0.800',\n",
       "  'start_spaces': 3,\n",
       "  'end_spaces': 1},\n",
       " {'index': 119189,\n",
       "  'data_key': 'job',\n",
       "  'data_value': '\"job_treasurer\"',\n",
       "  'start_spaces': 3,\n",
       "  'end_spaces': 1},\n",
       " {'index': 119190,\n",
       "  'data_key': 'emp',\n",
       "  'data_value': '160194',\n",
       "  'start_spaces': 3,\n",
       "  'end_spaces': 1},\n",
       " {'index': 119191,\n",
       "  'data_key': 'host',\n",
       "  'data_value': '160194',\n",
       "  'start_spaces': 3,\n",
       "  'end_spaces': 1},\n",
       " {'index': 119192,\n",
       "  'data_key': 'action',\n",
       "  'data_value': '\"action_build_legend\"',\n",
       "  'start_spaces': 3,\n",
       "  'end_spaces': 1},\n",
       " {'index': 119193,\n",
       "  'data_key': 'acdate',\n",
       "  'data_value': '\"769.7.13\"',\n",
       "  'start_spaces': 3,\n",
       "  'end_spaces': 1},\n",
       " {'index': 119194,\n",
       "  'data_key': 'acloc',\n",
       "  'data_value': '5',\n",
       "  'start_spaces': 3,\n",
       "  'end_spaces': 1},\n",
       " {'index': 119195,\n",
       "  'data_key': 'cpos',\n",
       "  'data_value': '\"pragmatist\"',\n",
       "  'start_spaces': 3,\n",
       "  'end_spaces': 1},\n",
       " {'index': 119196,\n",
       "  'data_key': 'cpos_start',\n",
       "  'data_value': '9232',\n",
       "  'start_spaces': 3,\n",
       "  'end_spaces': 1},\n",
       " {'index': 119197,\n",
       "  'data_key': 'society',\n",
       "  'data_value': '10',\n",
       "  'start_spaces': 3,\n",
       "  'end_spaces': 1}]"
      ]
     },
     "execution_count": 8,
     "metadata": {},
     "output_type": "execute_result"
    }
   ],
   "source": [
    "[item.__dict__ for item in items]"
   ]
  },
  {
   "cell_type": "code",
   "execution_count": 9,
   "metadata": {},
   "outputs": [],
   "source": [
    "import random\n",
    "\n",
    "character = random.choice(items)"
   ]
  },
  {
   "cell_type": "code",
   "execution_count": 10,
   "metadata": {},
   "outputs": [
    {
     "name": "stdout",
     "output_type": "stream",
     "text": [
      "\t\n",
      "\t\n",
      "\t\n",
      "p\n",
      "r\n",
      "s\n",
      "=\n",
      "1\n",
      "2\n",
      ".\n",
      "9\n",
      "4\n",
      "0\n",
      "\n",
      "\n"
     ]
    }
   ],
   "source": [
    "for i in character.to_raw_string():\n",
    "    print(i)"
   ]
  },
  {
   "cell_type": "code",
   "execution_count": 11,
   "metadata": {},
   "outputs": [
    {
     "data": {
      "text/plain": [
       "2"
      ]
     },
     "execution_count": 11,
     "metadata": {},
     "output_type": "execute_result"
    }
   ],
   "source": [
    "True + True"
   ]
  }
 ],
 "metadata": {
  "kernelspec": {
   "display_name": ".venv",
   "language": "python",
   "name": "python3"
  },
  "language_info": {
   "codemirror_mode": {
    "name": "ipython",
    "version": 3
   },
   "file_extension": ".py",
   "mimetype": "text/x-python",
   "name": "python",
   "nbconvert_exporter": "python",
   "pygments_lexer": "ipython3",
   "version": "3.11.4"
  }
 },
 "nbformat": 4,
 "nbformat_minor": 2
}
