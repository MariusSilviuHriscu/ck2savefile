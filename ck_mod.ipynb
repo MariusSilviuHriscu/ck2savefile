{
 "cells": [
  {
   "cell_type": "code",
   "execution_count": 1,
   "metadata": {},
   "outputs": [],
   "source": [
    "from pathlib import Path\n",
    "import typing\n",
    "import json"
   ]
  },
  {
   "cell_type": "code",
   "execution_count": 2,
   "metadata": {},
   "outputs": [],
   "source": [
    "path_to_savegame = Path(r'C:\\Users\\Victor\\Documents\\Paradox Interactive\\Crusader Kings II\\save games\\Hriscu7')\n",
    "save_game_name = '769_08_20.ck2'\n",
    "complete_path = path_to_savegame / save_game_name"
   ]
  },
  {
   "cell_type": "code",
   "execution_count": 3,
   "metadata": {},
   "outputs": [],
   "source": [
    "from ck2_savefile.parser import SaveFileParser\n",
    "\n",
    "\n",
    "save_game_parser = SaveFileParser(file_path=complete_path)"
   ]
  },
  {
   "cell_type": "code",
   "execution_count": 4,
   "metadata": {},
   "outputs": [],
   "source": [
    "response = save_game_parser.parse_data()"
   ]
  },
  {
   "cell_type": "code",
   "execution_count": 5,
   "metadata": {},
   "outputs": [],
   "source": [
    "from ck2_savefile.search_type import DictSearch,OneLineKeyValueSearch,OptionalKeyDictSearch\n",
    "\n",
    "\n",
    "search_dict = DictSearch(\n",
    "    search_key = 'player',\n",
    "    get_value_flag= False\n",
    ")\n",
    "character_dict_search = DictSearch(\n",
    "    search_key='player_portrait',\n",
    "    get_value_flag = False\n",
    ")\n",
    "search_key = OneLineKeyValueSearch(\n",
    "    search_key = 'health'\n",
    ")\n",
    "optional_dicts = OptionalKeyDictSearch(\n",
    "    search_key=None\n",
    ")\n",
    "response2 = response.get_by_search_term(search_dict)\n",
    "response3 = response.get_by_search_term(character_dict_search)"
   ]
  },
  {
   "cell_type": "code",
   "execution_count": 6,
   "metadata": {},
   "outputs": [],
   "source": [
    "player_dict : DictSearch.item_info_type = next(response2.generator)\n",
    "player_portrait : DictSearch.item_info_type = next(response3.generator)"
   ]
  },
  {
   "cell_type": "code",
   "execution_count": 7,
   "metadata": {},
   "outputs": [],
   "source": [
    "changes = player_dict.extend(\n",
    "    input = {'data_key': 'caca',\n",
    "             'data_value' : 'maca'\n",
    "             },\n",
    "    class_type= OneLineKeyValueSearch.item_info_type\n",
    ")\n",
    "changes2 = player_dict.extend(\n",
    "    input = {'data_key': 'caca',\n",
    "             'data_value' : 'maca'\n",
    "             },\n",
    "    class_type= OneLineKeyValueSearch.item_info_type\n",
    ") \n",
    "changes3 = player_portrait.extend(\n",
    "    input = {'data_key': 'caca',\n",
    "             'data_value' : 'maca'\n",
    "             },\n",
    "    class_type= OneLineKeyValueSearch.item_info_type\n",
    ")\n",
    "changes4 = player_portrait.extend(\n",
    "    input = {'data_key': 'caca',\n",
    "             'data_value' : 'maca'\n",
    "             },\n",
    "    class_type= OneLineKeyValueSearch.item_info_type\n",
    ")"
   ]
  },
  {
   "cell_type": "code",
   "execution_count": 8,
   "metadata": {},
   "outputs": [],
   "source": [
    "from ck2_savefile.editor import EditorHandler\n",
    "\n",
    "editor = EditorHandler(\n",
    "    changes= [changes , changes2 , changes3,changes4],\n",
    "    file_path= complete_path\n",
    ")\n",
    "editor.apply_changes()\n",
    "editor.write_to_file(Path(r'C:\\Users\\Victor\\Documents\\GitHub\\ck2savefile\\dada.ck2'))"
   ]
  }
 ],
 "metadata": {
  "kernelspec": {
   "display_name": ".venv",
   "language": "python",
   "name": "python3"
  },
  "language_info": {
   "codemirror_mode": {
    "name": "ipython",
    "version": 3
   },
   "file_extension": ".py",
   "mimetype": "text/x-python",
   "name": "python",
   "nbconvert_exporter": "python",
   "pygments_lexer": "ipython3",
   "version": "3.11.4"
  }
 },
 "nbformat": 4,
 "nbformat_minor": 2
}
