{
 "cells": [
  {
   "cell_type": "code",
   "execution_count": 1,
   "metadata": {},
   "outputs": [],
   "source": [
    "from pathlib import Path\n",
    "import typing\n",
    "import json"
   ]
  },
  {
   "cell_type": "code",
   "execution_count": 2,
   "metadata": {},
   "outputs": [],
   "source": [
    "path_to_savegame = Path(r'C:\\Users\\Victor\\Documents\\Paradox Interactive\\Crusader Kings II\\save games\\Hriscu7')\n",
    "save_game_name = '769_08_20.ck2'\n",
    "complete_path = path_to_savegame / save_game_name"
   ]
  },
  {
   "cell_type": "code",
   "execution_count": 3,
   "metadata": {},
   "outputs": [],
   "source": [
    "from ck2_savefile.parser import SaveFileParser\n",
    "\n",
    "\n",
    "save_game_parser = SaveFileParser(file_path=complete_path)"
   ]
  },
  {
   "cell_type": "code",
   "execution_count": 4,
   "metadata": {},
   "outputs": [],
   "source": [
    "response = save_game_parser.parse_data()"
   ]
  },
  {
   "cell_type": "code",
   "execution_count": 5,
   "metadata": {},
   "outputs": [],
   "source": [
    "from ck2_savefile.search_type import DictSearch,OneLineKeyValueSearch\n",
    "\n",
    "\n",
    "search_dict = DictSearch(\n",
    "    search_key = 'character'\n",
    ")\n",
    "search_key = OneLineKeyValueSearch(\n",
    "    search_key = 'id'\n",
    ")\n",
    "response2 = response.get_by_search_term(search_dict)"
   ]
  },
  {
   "cell_type": "code",
   "execution_count": 6,
   "metadata": {},
   "outputs": [],
   "source": [
    "items = list(response2.generator)"
   ]
  },
  {
   "cell_type": "code",
   "execution_count": 10,
   "metadata": {},
   "outputs": [
    {
     "data": {
      "text/plain": [
       "{'data_key': 'base', 'data_value': '1797', 'start_spaces': 5, 'end_spaces': 1}"
      ]
     },
     "execution_count": 10,
     "metadata": {},
     "output_type": "execute_result"
    }
   ],
   "source": [
    "for item in items:\n",
    "    print(item.__dict__)"
   ]
  }
 ],
 "metadata": {
  "kernelspec": {
   "display_name": ".venv",
   "language": "python",
   "name": "python3"
  },
  "language_info": {
   "codemirror_mode": {
    "name": "ipython",
    "version": 3
   },
   "file_extension": ".py",
   "mimetype": "text/x-python",
   "name": "python",
   "nbconvert_exporter": "python",
   "pygments_lexer": "ipython3",
   "version": "3.11.4"
  }
 },
 "nbformat": 4,
 "nbformat_minor": 2
}
