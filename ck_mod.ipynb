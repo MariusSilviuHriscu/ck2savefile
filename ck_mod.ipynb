{
 "cells": [
  {
   "cell_type": "code",
   "execution_count": 1,
   "metadata": {},
   "outputs": [],
   "source": [
    "from pathlib import Path\n",
    "import typing\n",
    "import json"
   ]
  },
  {
   "cell_type": "code",
   "execution_count": 2,
   "metadata": {},
   "outputs": [],
   "source": [
    "path_to_savegame = Path('C:/Users/Victor/Documents/Paradox Interactive/Crusader Kings II/save games')\n",
    "save_game_name = '771_01_23.ck2'\n",
    "complete_path = path_to_savegame / save_game_name"
   ]
  },
  {
   "cell_type": "code",
   "execution_count": 3,
   "metadata": {},
   "outputs": [],
   "source": [
    "class InfoRepresentation(typing.Protocol):\n",
    "    \n",
    "    @staticmethod\n",
    "    def create(raw_into : str) -> typing.Self:\n",
    "        pass\n",
    "    \n",
    "    def to_raw_string(self) -> str:\n",
    "        pass\n",
    "    @staticmethod\n",
    "    def corresponds(raw_info:str) ->bool:\n",
    "        pass\n",
    "    def change_value(self , other : typing.Any) -> None:\n",
    "        pass"
   ]
  },
  {
   "cell_type": "code",
   "execution_count": 10,
   "metadata": {},
   "outputs": [],
   "source": [
    "class OneLineKeyValueInfo:\n",
    "    def __init__(self , \n",
    "                 data_key : str ,\n",
    "                 data_value : str , \n",
    "                 start_spaces : int ,\n",
    "                 end_spaces : int):\n",
    "        self.data_key = data_key\n",
    "        self.data_value = data_value\n",
    "        self.start_spaces= start_spaces\n",
    "        self.end_spaces = end_spaces\n",
    "    @staticmethod\n",
    "    def create(raw_info : str) -> typing.Self:\n",
    "        start_spaces = raw_info.count(r'\\t')\n",
    "        end_spaces = raw_info.count(r'\\n')\n",
    "        try :\n",
    "            data_name , data_value = raw_info.removeprefix(r'\\t').removesuffix(r'\\n').split('=')\n",
    "        except :\n",
    "            print(raw_info)\n",
    "        return OneLineKeyValueInfo(\n",
    "            data_key = data_name,\n",
    "            data_value = data_value,\n",
    "            start_spaces = start_spaces, \n",
    "            end_spaces= end_spaces\n",
    "        )\n",
    "    \n",
    "    @staticmethod\n",
    "    def corresponds(raw_info : str) -> bool:\n",
    "        \n",
    "        return '=' in raw_info and not raw_info.endswith(r'=\\n') and \"{\" not in raw_info\n",
    "    \n",
    "    def to_raw_string(self) -> str:\n",
    "        return r\"\\t\"*self.start_spaces + f'{self.data_key}={self.data_value}' + r\"\\n\"*self.end_spaces\n",
    "    \n",
    "    def change_value(self , value : str) :\n",
    "        self.data_value = value\n",
    "\n",
    "class OneLineListInfo:\n",
    "    def __init__(self , info_list : list[str],start_spaces : int , end_spaces : int):\n",
    "        self.info_list = info_list\n",
    "        self.start_spaces = start_spaces\n",
    "        self.end_spaces = end_spaces\n",
    "    \n",
    "    @staticmethod\n",
    "    def create(raw_info : str) -> typing.Self:\n",
    "        \n",
    "        start_spaces = raw_info.count(r'\\t')\n",
    "        end_spaces = raw_info.count(r'\\n')\n",
    "        \n",
    "        data = raw_info.removeprefix(r'\\t').removesuffix(r'\\n').split(' ')\n",
    "        \n",
    "        return OneLineListInfo(info_list = data,\n",
    "                               start_spaces = start_spaces,\n",
    "                               end_spaces = end_spaces\n",
    "                               )\n",
    "    @staticmethod\n",
    "    def corresponds(raw_info : str) -> bool:\n",
    "        \n",
    "        return '=' not in raw_info and raw_info.count(' ') > 1\n",
    "    \n",
    "    def to_raw_string(self) -> str:\n",
    "        return r'\\t' * self.start_spaces + ' '.join(self.info_list) + r'\\n' * self.end_spaces\n",
    "    \n",
    "    def change_value(self , other_list : list[str]):\n",
    "        self.info_list = other_list\n",
    "\n",
    "class OneLineKeyListInfo:\n",
    "    \n",
    "    def __init__(self , data_key : str , data_list : OneLineListInfo,start_spaces : int , end_spaces : int):\n",
    "        \n",
    "        self.data_key = data_key\n",
    "        self.data_list = data_list\n",
    "        self.start_spaces = start_spaces\n",
    "        self.end_spaces = end_spaces\n",
    "    \n",
    "    def create(raw_info : str) -> typing.Self:\n",
    "        \n",
    "        start_spaces = raw_info.count(r'\\t')\n",
    "        end_spaces = raw_info.count(r'\\n')\n",
    "        \n",
    "        data_key , data_list_str = raw_info.removeprefix(r'\\t').removesuffix(r'\\n').split('=')\n",
    "        data_list = OneLineListInfo.create(\n",
    "                    raw_info = data_list_str.replace('{',r'\\t').replace('}',r'\\n')\n",
    "        )\n",
    "        return OneLineKeyListInfo(\n",
    "            data_key = data_key ,\n",
    "            data_list = data_list,\n",
    "            start_spaces=start_spaces,\n",
    "            end_spaces=end_spaces\n",
    "        )\n",
    "    \n",
    "    @staticmethod\n",
    "    def corresponds(raw_info : str) -> bool:\n",
    "        return '=' in raw_info and '{' in raw_info\n",
    "    def to_raw_string(self) -> str:\n",
    "        data_list_str = self.data_list.to_raw_string().replace(r'\\t','{').replace(r'\\n','}')\n",
    "        \n",
    "        return r\"\\t\"*self.start_spaces + f'{self.data_key}={data_list_str}' + r\"\\n\"*self.end_spaces\n",
    "class DictInfo:\n",
    "    \n",
    "    def __init__(self , \n",
    "                 key : str ,\n",
    "                 value : list[typing.Self | OneLineKeyListInfo | OneLineListInfo | OneLineKeyValueInfo],\n",
    "                 start_spaces : int,\n",
    "                 end_spaces : int\n",
    "                 ):\n",
    "        \n",
    "        self.key = key\n",
    "        self.value = value\n",
    "        self.start_spaces = start_spaces\n",
    "        self.end_spaces = end_spaces\n",
    "    \n",
    "    @staticmethod\n",
    "    def corresponds(raw_info : str):\n",
    "        \n",
    "        return raw_info.endswith(r'=\\n')\n",
    "\n",
    "    @staticmethod\n",
    "    def create( raw_key_data :str , ck2generator : typing.Generator[str,None,None] ) -> typing.Self:\n",
    "        \n",
    "        start_spaces = raw_key_data.count(r'\\t')\n",
    "        end_spaces = raw_key_data.count(r'\\n')\n",
    "        \n",
    "        key_data = raw_key_data.replace(r'\\n','').replace(r'\\t','').replace('=','')\n",
    "        \n",
    "        dict_data = []\n",
    "        \n",
    "        open_parenthesis = next(ck2generator)\n",
    "        if not open_parenthesis.endswith(r'{\\n'):\n",
    "            raise ValueError(f'Expected a curly bracket but only got {open_parenthesis}')\n",
    "        \n",
    "        for line in ck2generator:\n",
    "            \n",
    "            if OneLineKeyValueInfo.corresponds(raw_info = line):\n",
    "                \n",
    "                new_value = OneLineKeyValueInfo.create(raw_info = line)\n",
    "                dict_data.append(new_value)\n",
    "            \n",
    "            if OneLineListInfo.corresponds(raw_info = line):\n",
    "                \n",
    "                new_value = OneLineListInfo.create(raw_info = line)\n",
    "                dict_data.append(new_value)\n",
    "            \n",
    "            if OneLineKeyListInfo.corresponds(raw_info = line):\n",
    "                \n",
    "                new_value = OneLineKeyListInfo.create(raw_info = line)\n",
    "                dict_data.append(new_value)\n",
    "            \n",
    "            if DictInfo.corresponds(raw_info = line):\n",
    "                \n",
    "                new_value = DictInfo.create(raw_key_data = line , ck2generator = ck2generator)\n",
    "                dict_data.append(new_value)\n",
    "            \n",
    "            if line.endswith(r'}\\n'):\n",
    "                return DictInfo(\n",
    "                    key = key_data ,\n",
    "                    value = dict_data,\n",
    "                    start_spaces= start_spaces,\n",
    "                    end_spaces = end_spaces\n",
    "                )\n",
    "        raise Exception('something is wrong !')"
   ]
  },
  {
   "cell_type": "code",
   "execution_count": 11,
   "metadata": {},
   "outputs": [],
   "source": [
    "class SaveFileParser:\n",
    "    \n",
    "    def __init__(self , file_path : Path ):\n",
    "        self.path = file_path\n",
    "        self.generator = SaveFileParser.read_file_line_by_line(file_path = self.path)\n",
    "    @staticmethod\n",
    "    def read_file_line_by_line(file_path : Path):\n",
    "        with open(file_path, 'r') as file:\n",
    "            for line in file:\n",
    "                yield line\n",
    "    \n",
    "    def one_line_data(self , line) -> bool:\n",
    "        return '\"' in line\n",
    "    \n",
    "    def parse_data(self):\n",
    "        \n",
    "        data = []\n",
    "        first_line = next(self.generator) \n",
    "        \n",
    "        for line in self.generator:\n",
    "        \n",
    "            if OneLineKeyValueInfo.corresponds(raw_info = line):\n",
    "                    \n",
    "                new_value = OneLineKeyValueInfo.create(raw_info = line)\n",
    "                data.append(new_value)\n",
    "            \n",
    "            if OneLineListInfo.corresponds(raw_info = line):\n",
    "                \n",
    "                new_value = OneLineListInfo.create(raw_info = line)\n",
    "                data.append(new_value)\n",
    "            \n",
    "            if OneLineKeyListInfo.corresponds(raw_info = line):\n",
    "                \n",
    "                new_value = OneLineKeyListInfo.create(raw_info = line)\n",
    "                data.append(new_value)\n",
    "            \n",
    "            if DictInfo.corresponds(raw_info = line):\n",
    "                \n",
    "                new_value = DictInfo.create(raw_key_data = line , ck2generator = self.generator)\n",
    "                data.append(new_value)\n",
    "        \n",
    "        return data"
   ]
  },
  {
   "cell_type": "code",
   "execution_count": 12,
   "metadata": {},
   "outputs": [],
   "source": [
    "line = '\\tlastmonthincometable={0.00000 0.00000 0.00000 0.00000 0.00000 0.00000 0.00000 0.10000 0.00000 0.00000 0.00000 0.00000 0.00000 0.00000}\\n'\n",
    "line_info = OneLineKeyListInfo.create(raw_info=line)\n"
   ]
  },
  {
   "cell_type": "code",
   "execution_count": null,
   "metadata": {},
   "outputs": [],
   "source": []
  },
  {
   "cell_type": "code",
   "execution_count": 13,
   "metadata": {},
   "outputs": [],
   "source": [
    "game_generator = SaveFileParser(file_path=complete_path)"
   ]
  },
  {
   "cell_type": "code",
   "execution_count": 14,
   "metadata": {},
   "outputs": [
    {
     "name": "stdout",
     "output_type": "stream",
     "text": [
      "\t\t\t\t1060322=\"antagonizing_target_key\" 1060547=\"swaying_target_key\" \n",
      "\n"
     ]
    },
    {
     "ename": "UnboundLocalError",
     "evalue": "cannot access local variable 'data_name' where it is not associated with a value",
     "output_type": "error",
     "traceback": [
      "\u001b[1;31m---------------------------------------------------------------------------\u001b[0m",
      "\u001b[1;31mUnboundLocalError\u001b[0m                         Traceback (most recent call last)",
      "Cell \u001b[1;32mIn[14], line 1\u001b[0m\n\u001b[1;32m----> 1\u001b[0m d \u001b[38;5;241m=\u001b[39m \u001b[43mgame_generator\u001b[49m\u001b[38;5;241;43m.\u001b[39;49m\u001b[43mparse_data\u001b[49m\u001b[43m(\u001b[49m\u001b[43m)\u001b[49m\n",
      "Cell \u001b[1;32mIn[11], line 24\u001b[0m, in \u001b[0;36mSaveFileParser.parse_data\u001b[1;34m(self)\u001b[0m\n\u001b[0;32m     20\u001b[0m \u001b[38;5;28;01mfor\u001b[39;00m line \u001b[38;5;129;01min\u001b[39;00m \u001b[38;5;28mself\u001b[39m\u001b[38;5;241m.\u001b[39mgenerator:\n\u001b[0;32m     22\u001b[0m     \u001b[38;5;28;01mif\u001b[39;00m OneLineKeyValueInfo\u001b[38;5;241m.\u001b[39mcorresponds(raw_info \u001b[38;5;241m=\u001b[39m line):\n\u001b[1;32m---> 24\u001b[0m         new_value \u001b[38;5;241m=\u001b[39m \u001b[43mOneLineKeyValueInfo\u001b[49m\u001b[38;5;241;43m.\u001b[39;49m\u001b[43mcreate\u001b[49m\u001b[43m(\u001b[49m\u001b[43mraw_info\u001b[49m\u001b[43m \u001b[49m\u001b[38;5;241;43m=\u001b[39;49m\u001b[43m \u001b[49m\u001b[43mline\u001b[49m\u001b[43m)\u001b[49m\n\u001b[0;32m     25\u001b[0m         data\u001b[38;5;241m.\u001b[39mappend(new_value)\n\u001b[0;32m     27\u001b[0m     \u001b[38;5;28;01mif\u001b[39;00m OneLineListInfo\u001b[38;5;241m.\u001b[39mcorresponds(raw_info \u001b[38;5;241m=\u001b[39m line):\n",
      "Cell \u001b[1;32mIn[10], line 20\u001b[0m, in \u001b[0;36mOneLineKeyValueInfo.create\u001b[1;34m(raw_info)\u001b[0m\n\u001b[0;32m     17\u001b[0m \u001b[38;5;28;01mexcept\u001b[39;00m :\n\u001b[0;32m     18\u001b[0m     \u001b[38;5;28mprint\u001b[39m(raw_info)\n\u001b[0;32m     19\u001b[0m \u001b[38;5;28;01mreturn\u001b[39;00m OneLineKeyValueInfo(\n\u001b[1;32m---> 20\u001b[0m     data_key \u001b[38;5;241m=\u001b[39m \u001b[43mdata_name\u001b[49m,\n\u001b[0;32m     21\u001b[0m     data_value \u001b[38;5;241m=\u001b[39m data_value,\n\u001b[0;32m     22\u001b[0m     start_spaces \u001b[38;5;241m=\u001b[39m start_spaces, \n\u001b[0;32m     23\u001b[0m     end_spaces\u001b[38;5;241m=\u001b[39m end_spaces\n\u001b[0;32m     24\u001b[0m )\n",
      "\u001b[1;31mUnboundLocalError\u001b[0m: cannot access local variable 'data_name' where it is not associated with a value"
     ]
    }
   ],
   "source": [
    "d = game_generator.parse_data()"
   ]
  },
  {
   "cell_type": "code",
   "execution_count": null,
   "metadata": {},
   "outputs": [],
   "source": [
    "d"
   ]
  },
  {
   "cell_type": "code",
   "execution_count": null,
   "metadata": {},
   "outputs": [
    {
     "data": {
      "text/plain": [
       "'\\tdate=\"771.1.23\"\\n'"
      ]
     },
     "execution_count": 33,
     "metadata": {},
     "output_type": "execute_result"
    }
   ],
   "source": [
    "next(game_generator)"
   ]
  },
  {
   "cell_type": "code",
   "execution_count": null,
   "metadata": {},
   "outputs": [
    {
     "data": {
      "text/plain": [
       "'\\tplayer=\\n'"
      ]
     },
     "execution_count": 34,
     "metadata": {},
     "output_type": "execute_result"
    }
   ],
   "source": [
    "next(game_generator)"
   ]
  },
  {
   "cell_type": "code",
   "execution_count": null,
   "metadata": {},
   "outputs": [
    {
     "data": {
      "text/plain": [
       "'\\t{\\n'"
      ]
     },
     "execution_count": 35,
     "metadata": {},
     "output_type": "execute_result"
    }
   ],
   "source": [
    "next(game_generator)"
   ]
  },
  {
   "cell_type": "code",
   "execution_count": null,
   "metadata": {},
   "outputs": [
    {
     "data": {
      "text/plain": [
       "'\\t\\tid=1068759\\n'"
      ]
     },
     "execution_count": 36,
     "metadata": {},
     "output_type": "execute_result"
    }
   ],
   "source": [
    "next(game_generator)"
   ]
  },
  {
   "cell_type": "code",
   "execution_count": null,
   "metadata": {},
   "outputs": [
    {
     "data": {
      "text/plain": [
       "'\\t\\ttype=66\\n'"
      ]
     },
     "execution_count": 37,
     "metadata": {},
     "output_type": "execute_result"
    }
   ],
   "source": [
    "next(game_generator)"
   ]
  },
  {
   "cell_type": "code",
   "execution_count": null,
   "metadata": {},
   "outputs": [
    {
     "data": {
      "text/plain": [
       "'\\t}\\n'"
      ]
     },
     "execution_count": 38,
     "metadata": {},
     "output_type": "execute_result"
    }
   ],
   "source": [
    "next(game_generator)"
   ]
  },
  {
   "cell_type": "code",
   "execution_count": null,
   "metadata": {},
   "outputs": [
    {
     "data": {
      "text/plain": [
       "'\\tplayer_realm=\"c_olvia\"\\n'"
      ]
     },
     "execution_count": 39,
     "metadata": {},
     "output_type": "execute_result"
    }
   ],
   "source": [
    "next(game_generator)"
   ]
  }
 ],
 "metadata": {
  "kernelspec": {
   "display_name": ".venv",
   "language": "python",
   "name": "python3"
  },
  "language_info": {
   "codemirror_mode": {
    "name": "ipython",
    "version": 3
   },
   "file_extension": ".py",
   "mimetype": "text/x-python",
   "name": "python",
   "nbconvert_exporter": "python",
   "pygments_lexer": "ipython3",
   "version": "3.11.4"
  }
 },
 "nbformat": 4,
 "nbformat_minor": 2
}
