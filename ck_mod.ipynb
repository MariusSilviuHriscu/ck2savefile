{
 "cells": [
  {
   "cell_type": "code",
   "execution_count": 20,
   "metadata": {},
   "outputs": [],
   "source": [
    "from pathlib import Path\n",
    "import typing\n",
    "import json"
   ]
  },
  {
   "cell_type": "code",
   "execution_count": 21,
   "metadata": {},
   "outputs": [],
   "source": [
    "path_to_savegame = Path('C:/Users/Victor/Documents/Paradox Interactive/Crusader Kings II/save games')\n",
    "save_game_name = '771_01_23.ck2'\n",
    "complete_path = path_to_savegame / save_game_name"
   ]
  },
  {
   "cell_type": "code",
   "execution_count": 26,
   "metadata": {},
   "outputs": [],
   "source": [
    "class InfoRepresentation(typing.Protocol):\n",
    "    \n",
    "    @staticmethod\n",
    "    def create(raw_into : str) -> typing.Self:\n",
    "        pass\n",
    "    \n",
    "    def to_raw_string(self) -> str:\n",
    "        pass\n",
    "    \n",
    "    def change_value(self , other : typing.Any) -> None:\n",
    "        pass"
   ]
  },
  {
   "cell_type": "code",
   "execution_count": 27,
   "metadata": {},
   "outputs": [],
   "source": [
    "class OneLineKeyValueInfo:\n",
    "    def __init__(self , \n",
    "                 data_key : str ,\n",
    "                 data_value , \n",
    "                 start_spaces : int ,\n",
    "                 end_spaces : int):\n",
    "        self.data_key = data_key\n",
    "        self.data_value = data_value\n",
    "        self.start_spaces= start_spaces\n",
    "        self.end_spaces = end_spaces\n",
    "    @staticmethod\n",
    "    def create(raw_info : str) -> typing.Self:\n",
    "        start_spaces = raw_info.count('\\t')\n",
    "        end_spaces = raw_info.c\n",
    "        data_name , data_value = raw_info.removeprefix('\\t').removesuffix('\\n').split('=')\n",
    "        return OneLineKeyValueInfo(\n",
    "            data_key = data_name,\n",
    "            data_value = data_value\n",
    "        )\n",
    "    \n",
    "    def to_raw_string(self) -> str:\n",
    "        return f'\\t{self.data_key}={self.data_value}\\n'\n",
    "    \n",
    "    def change_value(self , value : str) :\n",
    "        self.data_value = value\n",
    "\n",
    "class OneLineListInfo:\n",
    "    def __init__(self , info_list : list[str]):\n",
    "        self.info_list = info_list\n",
    "    \n",
    "    @staticmethod\n",
    "    def create(raw_info : str) -> typing.Self:\n",
    "        data = raw_info.removeprefix('\\t').removesuffix('\\n').split(' ')\n",
    "        \n",
    "        return OneLineListInfo(info_list = data)\n",
    "    \n",
    "    def to_raw_string(self) -> str:\n",
    "        return '\\t' + ' '.join(self.info_list) + '\\n'\n",
    "    \n",
    "    def change_value(self , other_list : list[str]):\n",
    "        self.info_list = other_list\n",
    "\n",
    "class OneLineKeyListInfo:\n",
    "    \n",
    "    def __init__(self , data_key : str , data_list : OneLineListInfo):\n",
    "        \n",
    "        self.data_key = data_key\n",
    "        self.data_list = data_list\n",
    "    \n",
    "    def create(raw_info : str) -> typing.Self:\n",
    "        \n",
    "        data_key , data_list_str = raw_info.removeprefix('\\t').removesuffix('\\n').split('=')\n",
    "        data_list = OneLineListInfo.create(\n",
    "                    raw_info = data_list_str.replace('{','\\t').replace('}','\\n')\n",
    "        )\n",
    "        return OneLineKeyListInfo(\n",
    "            data_key = data_key ,\n",
    "            data_list = data_list\n",
    "        )\n",
    "    \n",
    "    def to_raw_string(self) -> str:\n",
    "        data_list_str = self.data_list.to_raw_string().replace('\\t','{').replace('\\n','}')\n",
    "        \n",
    "        return f'\\t{self.data_key}={data_list_str}\\n'\n",
    "class "
   ]
  },
  {
   "cell_type": "code",
   "execution_count": 28,
   "metadata": {},
   "outputs": [],
   "source": [
    "class SaveFileParser:\n",
    "    \n",
    "    def __init__(self , file_path : Path ):\n",
    "        self.path = file_path\n",
    "        self.generator = SaveFileParser.read_file_line_by_line(file_path = self.path)\n",
    "    @staticmethod\n",
    "    def read_file_line_by_line(file_path : Path):\n",
    "        with open(file_path, 'r') as file:\n",
    "            for line in file:\n",
    "                yield line\n",
    "    \n",
    "    def one_line_data(self , line) -> bool:\n",
    "        return '\"' in line"
   ]
  },
  {
   "cell_type": "code",
   "execution_count": 29,
   "metadata": {},
   "outputs": [],
   "source": [
    "line = '\\tlastmonthincometable={0.00000 0.00000 0.00000 0.00000 0.00000 0.00000 0.00000 0.10000 0.00000 0.00000 0.00000 0.00000 0.00000 0.00000}\\n'\n",
    "line_info = OneLineKeyListInfo.create(raw_info=line)\n"
   ]
  },
  {
   "cell_type": "code",
   "execution_count": null,
   "metadata": {},
   "outputs": [],
   "source": []
  },
  {
   "cell_type": "code",
   "execution_count": 30,
   "metadata": {},
   "outputs": [],
   "source": [
    "game_generator = read_file_line_by_line(file_path = complete_path)"
   ]
  },
  {
   "cell_type": "code",
   "execution_count": 31,
   "metadata": {},
   "outputs": [
    {
     "data": {
      "text/plain": [
       "'CK2txt\\n'"
      ]
     },
     "execution_count": 31,
     "metadata": {},
     "output_type": "execute_result"
    }
   ],
   "source": [
    "next(game_generator)"
   ]
  },
  {
   "cell_type": "code",
   "execution_count": 32,
   "metadata": {},
   "outputs": [
    {
     "data": {
      "text/plain": [
       "'\\tversion=\"3.0.0.0\"\\n'"
      ]
     },
     "execution_count": 32,
     "metadata": {},
     "output_type": "execute_result"
    }
   ],
   "source": [
    "next(game_generator)"
   ]
  },
  {
   "cell_type": "code",
   "execution_count": 33,
   "metadata": {},
   "outputs": [
    {
     "data": {
      "text/plain": [
       "'\\tdate=\"771.1.23\"\\n'"
      ]
     },
     "execution_count": 33,
     "metadata": {},
     "output_type": "execute_result"
    }
   ],
   "source": [
    "next(game_generator)"
   ]
  },
  {
   "cell_type": "code",
   "execution_count": 34,
   "metadata": {},
   "outputs": [
    {
     "data": {
      "text/plain": [
       "'\\tplayer=\\n'"
      ]
     },
     "execution_count": 34,
     "metadata": {},
     "output_type": "execute_result"
    }
   ],
   "source": [
    "next(game_generator)"
   ]
  },
  {
   "cell_type": "code",
   "execution_count": 35,
   "metadata": {},
   "outputs": [
    {
     "data": {
      "text/plain": [
       "'\\t{\\n'"
      ]
     },
     "execution_count": 35,
     "metadata": {},
     "output_type": "execute_result"
    }
   ],
   "source": [
    "next(game_generator)"
   ]
  },
  {
   "cell_type": "code",
   "execution_count": 36,
   "metadata": {},
   "outputs": [
    {
     "data": {
      "text/plain": [
       "'\\t\\tid=1068759\\n'"
      ]
     },
     "execution_count": 36,
     "metadata": {},
     "output_type": "execute_result"
    }
   ],
   "source": [
    "next(game_generator)"
   ]
  },
  {
   "cell_type": "code",
   "execution_count": 37,
   "metadata": {},
   "outputs": [
    {
     "data": {
      "text/plain": [
       "'\\t\\ttype=66\\n'"
      ]
     },
     "execution_count": 37,
     "metadata": {},
     "output_type": "execute_result"
    }
   ],
   "source": [
    "next(game_generator)"
   ]
  },
  {
   "cell_type": "code",
   "execution_count": 38,
   "metadata": {},
   "outputs": [
    {
     "data": {
      "text/plain": [
       "'\\t}\\n'"
      ]
     },
     "execution_count": 38,
     "metadata": {},
     "output_type": "execute_result"
    }
   ],
   "source": [
    "next(game_generator)"
   ]
  },
  {
   "cell_type": "code",
   "execution_count": 39,
   "metadata": {},
   "outputs": [
    {
     "data": {
      "text/plain": [
       "'\\tplayer_realm=\"c_olvia\"\\n'"
      ]
     },
     "execution_count": 39,
     "metadata": {},
     "output_type": "execute_result"
    }
   ],
   "source": [
    "next(game_generator)"
   ]
  }
 ],
 "metadata": {
  "kernelspec": {
   "display_name": ".venv",
   "language": "python",
   "name": "python3"
  },
  "language_info": {
   "codemirror_mode": {
    "name": "ipython",
    "version": 3
   },
   "file_extension": ".py",
   "mimetype": "text/x-python",
   "name": "python",
   "nbconvert_exporter": "python",
   "pygments_lexer": "ipython3",
   "version": "3.11.4"
  }
 },
 "nbformat": 4,
 "nbformat_minor": 2
}
